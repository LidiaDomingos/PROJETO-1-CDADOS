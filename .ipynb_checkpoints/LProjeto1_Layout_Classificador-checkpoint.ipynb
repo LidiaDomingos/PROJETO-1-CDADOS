{
 "cells": [
  {
   "cell_type": "markdown",
   "metadata": {},
   "source": [
    "# Projeto 1 - Ciência dos Dados"
   ]
  },
  {
   "cell_type": "markdown",
   "metadata": {},
   "source": [
    "Nome: Layne Silva\n",
    "\n",
    "Nome: Lidia Domingos"
   ]
  },
  {
   "cell_type": "markdown",
   "metadata": {},
   "source": [
    "Atenção: Serão permitidos grupos de três pessoas, mas com uma rubrica mais exigente. Grupos deste tamanho precisarão fazer um questionário de avaliação de trabalho em equipe"
   ]
  },
  {
   "cell_type": "markdown",
   "metadata": {},
   "source": [
    "___\n",
    "Carregando algumas bibliotecas:"
   ]
  },
  {
   "cell_type": "code",
   "execution_count": 22,
   "metadata": {},
   "outputs": [
    {
     "name": "stderr",
     "output_type": "stream",
     "text": [
      "[nltk_data] Downloading package stopwords to\n",
      "[nltk_data]     C:\\Users\\lidia\\AppData\\Roaming\\nltk_data...\n",
      "[nltk_data]   Package stopwords is already up-to-date!\n"
     ]
    },
    {
     "data": {
      "text/plain": [
       "True"
      ]
     },
     "execution_count": 22,
     "metadata": {},
     "output_type": "execute_result"
    }
   ],
   "source": [
    "%matplotlib inline\n",
    "import pandas as pd\n",
    "import matplotlib.pyplot as plt\n",
    "import numpy as np\n",
    "import os\n",
    "import nltk \n",
    "from nltk.stem import RSLPStemmer\n",
    "nltk.download('stopwords')"
   ]
  },
  {
   "cell_type": "code",
   "execution_count": 23,
   "metadata": {
    "scrolled": false
   },
   "outputs": [
    {
     "name": "stdout",
     "output_type": "stream",
     "text": [
      "Esperamos trabalhar no diretório\n",
      "C:\\Users\\lidia\\Desktop\\Ciência dos Dados\\Projeto1\\PROJETO-1-CDADOS\n"
     ]
    }
   ],
   "source": [
    "print('Esperamos trabalhar no diretório')\n",
    "print(os.getcwd())"
   ]
  },
  {
   "cell_type": "markdown",
   "metadata": {},
   "source": [
    "Carregando a base de dados com os tweets classificados como relevantes e não relevantes:"
   ]
  },
  {
   "cell_type": "code",
   "execution_count": 24,
   "metadata": {},
   "outputs": [],
   "source": [
    "filename = 'XIAOMI.xlsx'"
   ]
  },
  {
   "cell_type": "code",
   "execution_count": 25,
   "metadata": {},
   "outputs": [
    {
     "data": {
      "text/html": [
       "<div>\n",
       "<style scoped>\n",
       "    .dataframe tbody tr th:only-of-type {\n",
       "        vertical-align: middle;\n",
       "    }\n",
       "\n",
       "    .dataframe tbody tr th {\n",
       "        vertical-align: top;\n",
       "    }\n",
       "\n",
       "    .dataframe thead th {\n",
       "        text-align: right;\n",
       "    }\n",
       "</style>\n",
       "<table border=\"1\" class=\"dataframe\">\n",
       "  <thead>\n",
       "    <tr style=\"text-align: right;\">\n",
       "      <th></th>\n",
       "      <th>TREINAMENTO</th>\n",
       "      <th>CLASSIFICAÇÃO</th>\n",
       "    </tr>\n",
       "  </thead>\n",
       "  <tbody>\n",
       "    <tr>\n",
       "      <th>0</th>\n",
       "      <td>quem aqui tb pronuncia xiaomi xaiomi</td>\n",
       "      <td>0</td>\n",
       "    </tr>\n",
       "    <tr>\n",
       "      <th>1</th>\n",
       "      <td>xiaomi mi true airdots 2s earphone(aliexpress)...</td>\n",
       "      <td>0</td>\n",
       "    </tr>\n",
       "    <tr>\n",
       "      <th>2</th>\n",
       "      <td>@felpsflip carreguei meu xiaomi uma vez na vid...</td>\n",
       "      <td>1</td>\n",
       "    </tr>\n",
       "    <tr>\n",
       "      <th>3</th>\n",
       "      <td>#promo #\\n$133.99 ~ 111,85 € ✂️cupão/cupom/cup...</td>\n",
       "      <td>0</td>\n",
       "    </tr>\n",
       "    <tr>\n",
       "      <th>4</th>\n",
       "      <td>#promo #\\n$299.99 ~ 250,41 € ✂️cupão/cupom/cup...</td>\n",
       "      <td>0</td>\n",
       "    </tr>\n",
       "  </tbody>\n",
       "</table>\n",
       "</div>"
      ],
      "text/plain": [
       "                                         TREINAMENTO  CLASSIFICAÇÃO\n",
       "0               quem aqui tb pronuncia xiaomi xaiomi              0\n",
       "1  xiaomi mi true airdots 2s earphone(aliexpress)...              0\n",
       "2  @felpsflip carreguei meu xiaomi uma vez na vid...              1\n",
       "3  #promo #\\n$133.99 ~ 111,85 € ✂️cupão/cupom/cup...              0\n",
       "4  #promo #\\n$299.99 ~ 250,41 € ✂️cupão/cupom/cup...              0"
      ]
     },
     "execution_count": 25,
     "metadata": {},
     "output_type": "execute_result"
    }
   ],
   "source": [
    "train = pd.read_excel(filename)\n",
    "train.head(5)"
   ]
  },
  {
   "cell_type": "code",
   "execution_count": 26,
   "metadata": {},
   "outputs": [
    {
     "data": {
      "text/html": [
       "<div>\n",
       "<style scoped>\n",
       "    .dataframe tbody tr th:only-of-type {\n",
       "        vertical-align: middle;\n",
       "    }\n",
       "\n",
       "    .dataframe tbody tr th {\n",
       "        vertical-align: top;\n",
       "    }\n",
       "\n",
       "    .dataframe thead th {\n",
       "        text-align: right;\n",
       "    }\n",
       "</style>\n",
       "<table border=\"1\" class=\"dataframe\">\n",
       "  <thead>\n",
       "    <tr style=\"text-align: right;\">\n",
       "      <th></th>\n",
       "      <th>Teste</th>\n",
       "      <th>CLASSIFICAÇÃO</th>\n",
       "    </tr>\n",
       "  </thead>\n",
       "  <tbody>\n",
       "    <tr>\n",
       "      <th>0</th>\n",
       "      <td>#promo #\\n$11.99 ~ 10,01 € ✂️cupão/cupom/cupon...</td>\n",
       "      <td>0</td>\n",
       "    </tr>\n",
       "    <tr>\n",
       "      <th>1</th>\n",
       "      <td>💠xiaomi poco m3 \\n\\n💵 por:  r$ 728,27 64gb\\n💵 ...</td>\n",
       "      <td>0</td>\n",
       "    </tr>\n",
       "    <tr>\n",
       "      <th>2</th>\n",
       "      <td>@_faccin_ \"quem ai tem um xiaomi pra ligar o p...</td>\n",
       "      <td>0</td>\n",
       "    </tr>\n",
       "    <tr>\n",
       "      <th>3</th>\n",
       "      <td>comprei mais capinha pro xiaomi https://t.co/7...</td>\n",
       "      <td>0</td>\n",
       "    </tr>\n",
       "    <tr>\n",
       "      <th>4</th>\n",
       "      <td>#promoção #oferta \\n\\n💵 por: r$ 1420 \\n🛒 link:...</td>\n",
       "      <td>0</td>\n",
       "    </tr>\n",
       "  </tbody>\n",
       "</table>\n",
       "</div>"
      ],
      "text/plain": [
       "                                               Teste  CLASSIFICAÇÃO\n",
       "0  #promo #\\n$11.99 ~ 10,01 € ✂️cupão/cupom/cupon...              0\n",
       "1  💠xiaomi poco m3 \\n\\n💵 por:  r$ 728,27 64gb\\n💵 ...              0\n",
       "2  @_faccin_ \"quem ai tem um xiaomi pra ligar o p...              0\n",
       "3  comprei mais capinha pro xiaomi https://t.co/7...              0\n",
       "4  #promoção #oferta \\n\\n💵 por: r$ 1420 \\n🛒 link:...              0"
      ]
     },
     "execution_count": 26,
     "metadata": {},
     "output_type": "execute_result"
    }
   ],
   "source": [
    "test = pd.read_excel(filename, sheet_name = 'Teste')\n",
    "test.head(5)"
   ]
  },
  {
   "cell_type": "code",
   "execution_count": 27,
   "metadata": {},
   "outputs": [
    {
     "data": {
      "text/html": [
       "<div>\n",
       "<style scoped>\n",
       "    .dataframe tbody tr th:only-of-type {\n",
       "        vertical-align: middle;\n",
       "    }\n",
       "\n",
       "    .dataframe tbody tr th {\n",
       "        vertical-align: top;\n",
       "    }\n",
       "\n",
       "    .dataframe thead th {\n",
       "        text-align: right;\n",
       "    }\n",
       "</style>\n",
       "<table border=\"1\" class=\"dataframe\">\n",
       "  <thead>\n",
       "    <tr style=\"text-align: right;\">\n",
       "      <th></th>\n",
       "      <th>Teste</th>\n",
       "    </tr>\n",
       "  </thead>\n",
       "  <tbody>\n",
       "    <tr>\n",
       "      <th>0</th>\n",
       "      <td>#promo #\\n$11.99 ~ 10,01 € ✂️cupão/cupom/cupon...</td>\n",
       "    </tr>\n",
       "    <tr>\n",
       "      <th>1</th>\n",
       "      <td>💠xiaomi poco m3 \\n\\n💵 por:  r$ 728,27 64gb\\n💵 ...</td>\n",
       "    </tr>\n",
       "    <tr>\n",
       "      <th>2</th>\n",
       "      <td>@_faccin_ \"quem ai tem um xiaomi pra ligar o p...</td>\n",
       "    </tr>\n",
       "    <tr>\n",
       "      <th>3</th>\n",
       "      <td>comprei mais capinha pro xiaomi https://t.co/7...</td>\n",
       "    </tr>\n",
       "    <tr>\n",
       "      <th>4</th>\n",
       "      <td>#promoção #oferta \\n\\n💵 por: r$ 1420 \\n🛒 link:...</td>\n",
       "    </tr>\n",
       "    <tr>\n",
       "      <th>...</th>\n",
       "      <td>...</td>\n",
       "    </tr>\n",
       "    <tr>\n",
       "      <th>254</th>\n",
       "      <td>rt @victorxama: salve rapa, tô vendendo meu xi...</td>\n",
       "    </tr>\n",
       "    <tr>\n",
       "      <th>255</th>\n",
       "      <td>@mslaryhill tenho um haylou gt1 pro q é da mes...</td>\n",
       "    </tr>\n",
       "    <tr>\n",
       "      <th>256</th>\n",
       "      <td>@gabiiii__araujo 😱😱😱\\n\\n*baixou mais!!*\\n\\n*xi...</td>\n",
       "    </tr>\n",
       "    <tr>\n",
       "      <th>257</th>\n",
       "      <td>@inutializador @viniport0 @2kjuramento @pessoa...</td>\n",
       "    </tr>\n",
       "    <tr>\n",
       "      <th>258</th>\n",
       "      <td>rt @amt_online: saiba como usar o celular sem ...</td>\n",
       "    </tr>\n",
       "  </tbody>\n",
       "</table>\n",
       "<p>259 rows × 1 columns</p>\n",
       "</div>"
      ],
      "text/plain": [
       "                                                 Teste\n",
       "0    #promo #\\n$11.99 ~ 10,01 € ✂️cupão/cupom/cupon...\n",
       "1    💠xiaomi poco m3 \\n\\n💵 por:  r$ 728,27 64gb\\n💵 ...\n",
       "2    @_faccin_ \"quem ai tem um xiaomi pra ligar o p...\n",
       "3    comprei mais capinha pro xiaomi https://t.co/7...\n",
       "4    #promoção #oferta \\n\\n💵 por: r$ 1420 \\n🛒 link:...\n",
       "..                                                 ...\n",
       "254  rt @victorxama: salve rapa, tô vendendo meu xi...\n",
       "255  @mslaryhill tenho um haylou gt1 pro q é da mes...\n",
       "256  @gabiiii__araujo 😱😱😱\\n\\n*baixou mais!!*\\n\\n*xi...\n",
       "257  @inutializador @viniport0 @2kjuramento @pessoa...\n",
       "258  rt @amt_online: saiba como usar o celular sem ...\n",
       "\n",
       "[259 rows x 1 columns]"
      ]
     },
     "execution_count": 27,
     "metadata": {},
     "output_type": "execute_result"
    }
   ],
   "source": [
    "test.iloc[:,0:1]"
   ]
  },
  {
   "cell_type": "markdown",
   "metadata": {},
   "source": [
    "___\n",
    "## Classificador automático de sentimento\n"
   ]
  },
  {
   "cell_type": "markdown",
   "metadata": {},
   "source": [
    "Faça aqui uma descrição do seu produto e o que considerou como relevante ou não relevante na classificação dos tweets.\n",
    "\n",
    "ESCREVA AQUI...\n",
    "\n",
    "*Escolhida a empresa XIAOMI, classificamos como tweets relevantes toda e qualquer citação (seja ela positiva ou negativa) dos internautas falando sobre o produto. Tweets considerados como irrelevantes seriam tweets não relacionados diretamente ao produto.*"
   ]
  },
  {
   "cell_type": "markdown",
   "metadata": {},
   "source": [
    "___\n",
    "### Montando um Classificador Naive-Bayes\n",
    "\n",
    "Considerando apenas as mensagens da planilha Treinamento, ensine  seu classificador."
   ]
  },
  {
   "cell_type": "code",
   "execution_count": 43,
   "metadata": {},
   "outputs": [],
   "source": [
    "#Limpeza de mensagens removendo os caracteres: enter, :, \", ', (, ), etc. Não remover emojis.\n",
    "#Correção de espaços entre palavras e/ou emojis.\n",
    "#Proposta de outras limpezas/transformações que não afetem a qualidade da informação.\n",
    "\n",
    "import re \n",
    "from nltk.tokenize.casual import TweetTokenizer #separa os emojis como palavras.\n",
    "\n",
    "def cleanup(text):\n",
    "    #import string\n",
    "    punctuation = '[!-@.~[\\]:\"''?;\\),(\"/]' # Note que os sinais [] são delimitadores de um conjunto.\n",
    "    pattern = re.compile(punctuation)\n",
    "    text_subbed = re.sub(pattern, '', text)\n",
    "    text_subbed = re.sub(r'http\\S+', '',text_subbed)\n",
    "    t = TweetTokenizer()\n",
    "    text_subbed = t.tokenize(text_subbed) \n",
    "    return text_subbed\n",
    "\n",
    "def RemoveStopWords(list_of_words):\n",
    "    stopwords = nltk.corpus.stopwords.words('portuguese')\n",
    "    lista_filtrada = []\n",
    "    for word in list_of_words:\n",
    "        if word not in stopwords:\n",
    "            lista_filtrada.append(word)\n",
    "    return lista_filtrada\n",
    "\n",
    "def Suavizacao_Laplace(variavel1, variavel2, variavel3):\n",
    "    y = (1 + variavel1)/(len(variavel2) + variavel3)  \n",
    "    return y\n",
    "\n",
    "def MultiplyList(List) : \n",
    "    result = 1\n",
    "    for x in List: \n",
    "         result = result * x  \n",
    "    return result\n",
    "\n",
    "\n",
    "\n",
    "\n"
   ]
  },
  {
   "cell_type": "code",
   "execution_count": 44,
   "metadata": {},
   "outputs": [],
   "source": [
    "#JUNTANDO TODAS AS PALAVRAS DOS TWEETS RELEVANTES DO TREINAMENTO\n",
    "train_relevante = train.loc[train[\"CLASSIFICAÇÃO\"] == 1, :]\n",
    "train_relevante_filtrada = ' '.join(train_relevante.TREINAMENTO) \n",
    "\n",
    "#JUNTANDO TODAS AS PALAVRAS DOS TWEETS IRRELEVANTES DO TREINAMENTO\n",
    "train_irrelevante = train.loc[train[\"CLASSIFICAÇÃO\"] == 0, :]\n",
    "train_irrelevante_filtrada = ' '.join(train_irrelevante.TREINAMENTO) \n"
   ]
  },
  {
   "cell_type": "code",
   "execution_count": 45,
   "metadata": {},
   "outputs": [],
   "source": [
    "#LIMPANDO VARIÁVEIS CRIADAS, COLOCANDO EM MINÚSCULO E AS GUARDANDO\n",
    "relevante = cleanup(train_relevante_filtrada.lower())\n",
    "palavras_relevantes = RemoveStopWords(relevante)\n",
    "\n",
    "irrelevante = cleanup(train_irrelevante_filtrada.lower())\n",
    "palavras_irrelevantes = RemoveStopWords(irrelevante)\n",
    "\n",
    "#JUNTANDO OS CONJUNTOS\n",
    "palavras_total = palavras_relevantes + palavras_irrelevantes\n"
   ]
  },
  {
   "cell_type": "code",
   "execution_count": 46,
   "metadata": {},
   "outputs": [],
   "source": [
    "#TRANSFORMANDO EM PD.SERIES\n",
    "series_total = pd.Series(palavras_total)\n",
    "series_train_relevante = pd.Series(palavras_relevantes)\n",
    "series_train_irrelevante = pd.Series(palavras_irrelevantes)\n"
   ]
  },
  {
   "cell_type": "code",
   "execution_count": 47,
   "metadata": {},
   "outputs": [],
   "source": [
    "#FREQUÊNCIAS RELATIVAS\n",
    "palavras_total_relativas = series_total.value_counts(True)\n",
    "palavras_relevante_relativas = series_train_relevante.value_counts(True)\n",
    "palavras_irrelevante_relativas = series_train_irrelevante.value_counts(True)\n"
   ]
  },
  {
   "cell_type": "code",
   "execution_count": 60,
   "metadata": {},
   "outputs": [
    {
     "data": {
      "text/plain": [
       "xiaomi              97\n",
       "bom                 15\n",
       "celular             13\n",
       "q                   12\n",
       "redmi                9\n",
       "                    ..\n",
       "assistência          1\n",
       "tudocelular          1\n",
       "portugal             1\n",
       "desvalorizar         1\n",
       "videoconferência     1\n",
       "Length: 638, dtype: int64"
      ]
     },
     "execution_count": 60,
     "metadata": {},
     "output_type": "execute_result"
    }
   ],
   "source": [
    "#FREQUÊNCIAS ABSOLUTAS\n",
    "palavras_relevante_absolutas = series_train_relevante.value_counts()\n",
    "palavras_irrelevante_absolutas = series_train_irrelevante.value_counts()\n",
    "palavras_total_absolutas = series_total.value_counts()\n",
    "palavras_relevante_absolutas"
   ]
  },
  {
   "cell_type": "markdown",
   "metadata": {},
   "source": [
    "**EVENTOS**\n",
    "\n",
    " * $R$: comentários relevantes\n",
    " * $R^c$: comentários irrelevantes\n",
    " * $C$: comentário recebido"
   ]
  },
  {
   "cell_type": "markdown",
   "metadata": {},
   "source": [
    "**PROBABILIDADES**\n",
    "\n",
    " * $P(R)$ : probabilidade do comentário ser relevante ;\n",
    " * $P(R^c)$: probabilidade do comentário não ser relevante, ou seja, irrelevante ;\n",
    " * $P(C)$ : probabilidade de cada palavra ocorrer na língua portuguesa ;\n",
    " * $P(C|R)$ : probabilidade do comentário existir dado o conjunto de relevantes ;\n",
    " * $P(C|R^c)$: probabilidade do comentário existir dado o conjunto de irrelevantes ; \n",
    " * $P(R|C)$: probabilidade do comentário ser relevante dado a frase ;\n",
    " * $P(R^c|C)$: probabilidade do comentário ser irrelevante dado a frase;\n"
   ]
  },
  {
   "cell_type": "markdown",
   "metadata": {},
   "source": [
    "**CLASSIFICADOR**\n",
    "\n"
   ]
  },
  {
   "cell_type": "code",
   "execution_count": 61,
   "metadata": {},
   "outputs": [],
   "source": [
    "def funcao_classificadora(test):\n",
    "    #separando os comentários\n",
    "    lista_resultados = []\n",
    "    test['classificação_nova'] = 'NaN'\n",
    "    \n",
    "#     comentarios = test.iloc[:,0:1]\n",
    "#     comentarios_juntos = ' '.join(comentarios.iloc[:,0]) \n",
    "#     palavras_limpas_comentario = RemoveStopWords(cleanup(comentarios_juntos.lower()))\n",
    "#     palavras_serie_comentario = pd.Series(palavras_limpas_comentario)\n",
    "#     palavras_comentarios = palavras_serie_comentario.value_counts()\n",
    "    \n",
    "    for tweet in list(test.Teste):\n",
    "        tweet_limpo = RemoveStopWords(cleanup(tweet.lower()))\n",
    "        lista_de_probabilidades1 = []\n",
    "        lista_de_probabilidades2 = []\n",
    "        for palavra in tweet_limpo:\n",
    "            \n",
    "            if (palavra in palavras_relevante_absolutas) & (palavra not in palavras_irrelevante_absolutas):\n",
    "                Laplace = Suavizacao_Laplace(palavras_relevante_absolutas[palavra],palavras_relevante_absolutas,palavras_relevante_absolutas.sum())\n",
    "                lista_de_probabilidades1.append(Laplace)\n",
    "                \n",
    "            elif (palavra not in palavras_relevante_absolutas) & (palavra in palavras_irrelevante_absolutas):\n",
    "                Laplace = Suavizacao_Laplace(palavras_irrelevante_absolutas[palavra],palavras_irrelevante_absolutas,palavras_irrelevante_absolutas.sum())\n",
    "                lista_de_probabilidades2.append(Laplace)\n",
    "                \n",
    "            elif (palavra in palavras_relevante_absolutas) & (palavra in palavras_irrelevante_absolutas):\n",
    "                Laplace = Suavizacao_Laplace(palavras_relevante_absolutas[palavra],palavras_relevante_absolutas,palavras_relevante_absolutas.sum())\n",
    "                lista_de_probabilidades1.append(Laplace)\n",
    "                Laplace = Suavizacao_Laplace(palavras_irrelevante_absolutas[palavra],palavras_irrelevante_absolutas,palavras_irrelevante_absolutas.sum())\n",
    "                lista_de_probabilidades2.append(Laplace)\n",
    "                \n",
    "            else:\n",
    "                Laplace = Suavizacao_Laplace(0,palavras_relevante_absolutas,palavras_relevante_absolutas.sum())\n",
    "                lista_de_probabilidades1.append(Laplace)\n",
    "                Laplace = Suavizacao_Laplace(0,palavras_irrelevante_absolutas,palavras_irrelevante_absolutas.sum())\n",
    "                lista_de_probabilidades2.append(Laplace)\n",
    "                \n",
    "            P_C_dado_R = MultiplyList(lista_de_probabilidades1)\n",
    "            P_C_dado_Rc = MultiplyList(lista_de_probabilidades2)\n",
    "\n",
    "        P_R = (palavras_relevante_absolutas.sum())/(palavras_total_absolutas.sum())\n",
    "    \n",
    "        P_Rc = 1 - P_R\n",
    "        \n",
    "        P_R_dado_C = P_R * P_C_dado_R\n",
    "\n",
    "        P_Rc_dado_C = P_Rc * P_C_dado_Rc            \n",
    "        \n",
    "        if P_R_dado_C > P_Rc_dado_C:\n",
    "            resultado = 1\n",
    "        else:\n",
    "            resultado = 0\n",
    "        \n",
    "        lista_resultados.append(resultado)\n",
    "    test['classificação_nova'] = lista_resultados\n",
    "    return test\n",
    "    "
   ]
  },
  {
   "cell_type": "code",
   "execution_count": 62,
   "metadata": {},
   "outputs": [],
   "source": [
    "teste = funcao_classificadora(test)\n",
    "\n"
   ]
  },
  {
   "cell_type": "code",
   "execution_count": 63,
   "metadata": {},
   "outputs": [
    {
     "data": {
      "text/html": [
       "<div>\n",
       "<style scoped>\n",
       "    .dataframe tbody tr th:only-of-type {\n",
       "        vertical-align: middle;\n",
       "    }\n",
       "\n",
       "    .dataframe tbody tr th {\n",
       "        vertical-align: top;\n",
       "    }\n",
       "\n",
       "    .dataframe thead th {\n",
       "        text-align: right;\n",
       "    }\n",
       "</style>\n",
       "<table border=\"1\" class=\"dataframe\">\n",
       "  <thead>\n",
       "    <tr style=\"text-align: right;\">\n",
       "      <th>classificação_nova</th>\n",
       "      <th>0</th>\n",
       "      <th>1</th>\n",
       "    </tr>\n",
       "    <tr>\n",
       "      <th>CLASSIFICAÇÃO</th>\n",
       "      <th></th>\n",
       "      <th></th>\n",
       "    </tr>\n",
       "  </thead>\n",
       "  <tbody>\n",
       "    <tr>\n",
       "      <th>0</th>\n",
       "      <td>7.34</td>\n",
       "      <td>49.03</td>\n",
       "    </tr>\n",
       "    <tr>\n",
       "      <th>1</th>\n",
       "      <td>11.97</td>\n",
       "      <td>31.66</td>\n",
       "    </tr>\n",
       "  </tbody>\n",
       "</table>\n",
       "</div>"
      ],
      "text/plain": [
       "classificação_nova      0      1\n",
       "CLASSIFICAÇÃO                   \n",
       "0                    7.34  49.03\n",
       "1                   11.97  31.66"
      ]
     },
     "execution_count": 63,
     "metadata": {},
     "output_type": "execute_result"
    }
   ],
   "source": [
    "pd.crosstab(teste.CLASSIFICAÇÃO,teste.classificação_nova, normalize = True).round(4)*100"
   ]
  },
  {
   "cell_type": "code",
   "execution_count": 619,
   "metadata": {},
   "outputs": [],
   "source": [
    "\n"
   ]
  },
  {
   "cell_type": "markdown",
   "metadata": {},
   "source": [
    "___\n",
    "### Verificando a performance do Classificador\n",
    "\n",
    "Agora você deve testar o seu classificador com a base de Testes."
   ]
  },
  {
   "cell_type": "code",
   "execution_count": 430,
   "metadata": {},
   "outputs": [
    {
     "data": {
      "text/html": [
       "<div>\n",
       "<style scoped>\n",
       "    .dataframe tbody tr th:only-of-type {\n",
       "        vertical-align: middle;\n",
       "    }\n",
       "\n",
       "    .dataframe tbody tr th {\n",
       "        vertical-align: top;\n",
       "    }\n",
       "\n",
       "    .dataframe thead th {\n",
       "        text-align: right;\n",
       "    }\n",
       "</style>\n",
       "<table border=\"1\" class=\"dataframe\">\n",
       "  <thead>\n",
       "    <tr style=\"text-align: right;\">\n",
       "      <th></th>\n",
       "      <th>Teste</th>\n",
       "      <th>CLASSIFICAÇÃO</th>\n",
       "      <th>classificação_nova</th>\n",
       "    </tr>\n",
       "  </thead>\n",
       "  <tbody>\n",
       "    <tr>\n",
       "      <th>0</th>\n",
       "      <td>#promo #\\n$11.99 ~ 10,01 € ✂️cupão/cupom/cupon...</td>\n",
       "      <td>0</td>\n",
       "      <td>0</td>\n",
       "    </tr>\n",
       "    <tr>\n",
       "      <th>1</th>\n",
       "      <td>💠xiaomi poco m3 \\n\\n💵 por:  r$ 728,27 64gb\\n💵 ...</td>\n",
       "      <td>0</td>\n",
       "      <td>0</td>\n",
       "    </tr>\n",
       "    <tr>\n",
       "      <th>2</th>\n",
       "      <td>@_faccin_ \"quem ai tem um xiaomi pra ligar o p...</td>\n",
       "      <td>0</td>\n",
       "      <td>0</td>\n",
       "    </tr>\n",
       "    <tr>\n",
       "      <th>3</th>\n",
       "      <td>comprei mais capinha pro xiaomi https://t.co/7...</td>\n",
       "      <td>0</td>\n",
       "      <td>0</td>\n",
       "    </tr>\n",
       "    <tr>\n",
       "      <th>4</th>\n",
       "      <td>#promoção #oferta \\n\\n💵 por: r$ 1420 \\n🛒 link:...</td>\n",
       "      <td>0</td>\n",
       "      <td>0</td>\n",
       "    </tr>\n",
       "    <tr>\n",
       "      <th>...</th>\n",
       "      <td>...</td>\n",
       "      <td>...</td>\n",
       "      <td>...</td>\n",
       "    </tr>\n",
       "    <tr>\n",
       "      <th>254</th>\n",
       "      <td>rt @victorxama: salve rapa, tô vendendo meu xi...</td>\n",
       "      <td>0</td>\n",
       "      <td>0</td>\n",
       "    </tr>\n",
       "    <tr>\n",
       "      <th>255</th>\n",
       "      <td>@mslaryhill tenho um haylou gt1 pro q é da mes...</td>\n",
       "      <td>1</td>\n",
       "      <td>0</td>\n",
       "    </tr>\n",
       "    <tr>\n",
       "      <th>256</th>\n",
       "      <td>@gabiiii__araujo 😱😱😱\\n\\n*baixou mais!!*\\n\\n*xi...</td>\n",
       "      <td>0</td>\n",
       "      <td>0</td>\n",
       "    </tr>\n",
       "    <tr>\n",
       "      <th>257</th>\n",
       "      <td>@inutializador @viniport0 @2kjuramento @pessoa...</td>\n",
       "      <td>0</td>\n",
       "      <td>0</td>\n",
       "    </tr>\n",
       "    <tr>\n",
       "      <th>258</th>\n",
       "      <td>rt @amt_online: saiba como usar o celular sem ...</td>\n",
       "      <td>0</td>\n",
       "      <td>0</td>\n",
       "    </tr>\n",
       "  </tbody>\n",
       "</table>\n",
       "<p>259 rows × 3 columns</p>\n",
       "</div>"
      ],
      "text/plain": [
       "                                                 Teste  CLASSIFICAÇÃO  \\\n",
       "0    #promo #\\n$11.99 ~ 10,01 € ✂️cupão/cupom/cupon...              0   \n",
       "1    💠xiaomi poco m3 \\n\\n💵 por:  r$ 728,27 64gb\\n💵 ...              0   \n",
       "2    @_faccin_ \"quem ai tem um xiaomi pra ligar o p...              0   \n",
       "3    comprei mais capinha pro xiaomi https://t.co/7...              0   \n",
       "4    #promoção #oferta \\n\\n💵 por: r$ 1420 \\n🛒 link:...              0   \n",
       "..                                                 ...            ...   \n",
       "254  rt @victorxama: salve rapa, tô vendendo meu xi...              0   \n",
       "255  @mslaryhill tenho um haylou gt1 pro q é da mes...              1   \n",
       "256  @gabiiii__araujo 😱😱😱\\n\\n*baixou mais!!*\\n\\n*xi...              0   \n",
       "257  @inutializador @viniport0 @2kjuramento @pessoa...              0   \n",
       "258  rt @amt_online: saiba como usar o celular sem ...              0   \n",
       "\n",
       "     classificação_nova  \n",
       "0                     0  \n",
       "1                     0  \n",
       "2                     0  \n",
       "3                     0  \n",
       "4                     0  \n",
       "..                  ...  \n",
       "254                   0  \n",
       "255                   0  \n",
       "256                   0  \n",
       "257                   0  \n",
       "258                   0  \n",
       "\n",
       "[259 rows x 3 columns]"
      ]
     },
     "execution_count": 430,
     "metadata": {},
     "output_type": "execute_result"
    }
   ],
   "source": [
    "funcao_classificadora(test)"
   ]
  },
  {
   "cell_type": "code",
   "execution_count": 568,
   "metadata": {},
   "outputs": [
    {
     "data": {
      "text/plain": [
       "0.29333333333333333"
      ]
     },
     "execution_count": 568,
     "metadata": {},
     "output_type": "execute_result"
    }
   ],
   "source": [
    "P_R = (palavras_relevante_absolutas.sum())/(palavras_total_absolutas.sum())"
   ]
  },
  {
   "cell_type": "code",
   "execution_count": null,
   "metadata": {},
   "outputs": [],
   "source": []
  },
  {
   "cell_type": "markdown",
   "metadata": {},
   "source": [
    "___\n",
    "### Concluindo"
   ]
  },
  {
   "cell_type": "code",
   "execution_count": null,
   "metadata": {},
   "outputs": [],
   "source": []
  },
  {
   "cell_type": "code",
   "execution_count": null,
   "metadata": {},
   "outputs": [],
   "source": []
  },
  {
   "cell_type": "code",
   "execution_count": null,
   "metadata": {},
   "outputs": [],
   "source": []
  },
  {
   "cell_type": "markdown",
   "metadata": {},
   "source": [
    "___\n",
    "### Qualidade do Classificador a partir de novas separações dos tweets entre Treinamento e Teste\n",
    "\n",
    "Caso for fazer esse item do Projeto"
   ]
  },
  {
   "cell_type": "code",
   "execution_count": null,
   "metadata": {},
   "outputs": [],
   "source": []
  },
  {
   "cell_type": "code",
   "execution_count": null,
   "metadata": {},
   "outputs": [],
   "source": []
  },
  {
   "cell_type": "code",
   "execution_count": null,
   "metadata": {},
   "outputs": [],
   "source": []
  },
  {
   "cell_type": "markdown",
   "metadata": {},
   "source": [
    "___\n",
    "## Aperfeiçoamento:\n",
    "\n",
    "Os trabalhos vão evoluir em conceito dependendo da quantidade de itens avançados:\n",
    "\n",
    "* Limpar: \\n, :, \", ', (, ), etc SEM remover emojis\n",
    "* Corrigir separação de espaços entre palavras e emojis ou entre emojis e emojis\n",
    "* Propor outras limpezas e transformações que não afetem a qualidade da informação ou classificação\n",
    "* Criar categorias intermediárias de relevância baseadas na probabilidade: ex.: muito relevante, relevante, neutro, irrelevante, muito irrelevante (3 categorias: C, mais categorias conta para B)\n",
    "* Explicar por que não posso usar o próprio classificador para gerar mais amostras de treinamento\n",
    "* Propor diferentes cenários para Naïve Bayes fora do contexto do projeto\n",
    "* Sugerir e explicar melhorias reais com indicações concretas de como implementar (indicar como fazer e indicar material de pesquisa)\n"
   ]
  },
  {
   "cell_type": "markdown",
   "metadata": {},
   "source": [
    "___\n",
    "## Referências"
   ]
  },
  {
   "cell_type": "markdown",
   "metadata": {},
   "source": [
    "[Naive Bayes and Text Classification](https://arxiv.org/pdf/1410.5329.pdf)  **Mais completo**\n",
    "\n",
    "[A practical explanation of a Naive Bayes Classifier](https://monkeylearn.com/blog/practical-explanation-naive-bayes-classifier/) **Mais simples**"
   ]
  },
  {
   "cell_type": "code",
   "execution_count": null,
   "metadata": {},
   "outputs": [],
   "source": []
  }
 ],
 "metadata": {
  "kernelspec": {
   "display_name": "Python 3",
   "language": "python",
   "name": "python3"
  },
  "language_info": {
   "codemirror_mode": {
    "name": "ipython",
    "version": 3
   },
   "file_extension": ".py",
   "mimetype": "text/x-python",
   "name": "python",
   "nbconvert_exporter": "python",
   "pygments_lexer": "ipython3",
   "version": "3.8.5"
  }
 },
 "nbformat": 4,
 "nbformat_minor": 4
}
