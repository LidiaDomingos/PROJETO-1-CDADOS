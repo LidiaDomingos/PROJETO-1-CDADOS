{
 "cells": [
  {
   "cell_type": "markdown",
   "metadata": {},
   "source": [
    "# Projeto 1 - Ciência dos Dados"
   ]
  },
  {
   "cell_type": "markdown",
   "metadata": {},
   "source": [
    "# Objetivo do projeto\n",
    "\n",
    "\n",
    "\"Você foi contratado por uma empresa parar analisar como os clientes estão reagindo a um\n",
    "determinado produto no Twitter. A empresa deseja que você: crie um programa que selecione\n",
    "algumas mensagens disponíveis no Twitter, as quais mencionam esse particular produto; e\n",
    "classifique esses tweets como \"relevante\" ou \"irrelevante\", pelo menos.\n",
    "Com isso, essa empresa deseja que mensagens relevantes, que denigrem o nome do produto, ou\n",
    "que mereçam destaque, por exemplo, disparem um foco de atenção da área de marketing.\n",
    "Como aluno de Ciência dos Dados, você lembrou do Teorema de Bayes, mais especificamente do\n",
    "Classificador Naive-Bayes, que é largamente utilizado em filtros anti-spam de e-mails, por exemplo.\n",
    "Esse classificador permite calcular qual a probabilidade de uma mensagem ser relevante dada as\n",
    "palavras em seu conteúdo.\n",
    "\n",
    "Para realizar o MVP (minimum viable product) do projeto, você precisa implementar uma versão\n",
    "do classificador que \"aprende\" o que é relevante com uma base de treinamento e compara a\n",
    "performance dos resultados com uma base de testes.\n",
    "\n",
    "Após validado, o seu protótipo poderia, porque não, também capturar e classificar\n",
    "automaticamente as mensagens da plataforma\""
   ]
  },
  {
   "cell_type": "markdown",
   "metadata": {},
   "source": [
    "# Contribuidores: \n",
    "\n",
    "Layne Pereira da Silva\n",
    "\n",
    "Lidia Alves Chagas Domingos"
   ]
  },
  {
   "cell_type": "markdown",
   "metadata": {},
   "source": [
    "# Carregando bibliotecas utilizadas:"
   ]
  },
  {
   "cell_type": "code",
   "execution_count": 595,
   "metadata": {},
   "outputs": [
    {
     "name": "stderr",
     "output_type": "stream",
     "text": [
      "[nltk_data] Downloading package stopwords to\n",
      "[nltk_data]     C:\\Users\\lidia\\AppData\\Roaming\\nltk_data...\n",
      "[nltk_data]   Package stopwords is already up-to-date!\n"
     ]
    }
   ],
   "source": [
    "%matplotlib inline\n",
    "import pandas as pd\n",
    "import matplotlib.pyplot as plt\n",
    "import numpy as np\n",
    "import os\n",
    "import nltk \n",
    "from nltk.stem import RSLPStemmer\n",
    "from sklearn.model_selection import train_test_split\n",
    "nltk.download('stopwords')\n",
    "\n",
    "pd.options.mode.chained_assignment = None  # default='warn'\n"
   ]
  },
  {
   "cell_type": "markdown",
   "metadata": {},
   "source": [
    "### Diretório utilizado:"
   ]
  },
  {
   "cell_type": "code",
   "execution_count": 596,
   "metadata": {
    "scrolled": false
   },
   "outputs": [
    {
     "name": "stdout",
     "output_type": "stream",
     "text": [
      "Esperamos trabalhar no diretório\n",
      "C:\\Users\\lidia\\Desktop\\Ciência dos Dados\\Projeto1\\PROJETO-1-CDADOS\n"
     ]
    }
   ],
   "source": [
    "print('Esperamos trabalhar no diretório')\n",
    "print(os.getcwd())"
   ]
  },
  {
   "cell_type": "markdown",
   "metadata": {},
   "source": [
    "## Carregando a base de dados e visualizando 5 primeiros termos:\n"
   ]
  },
  {
   "cell_type": "code",
   "execution_count": 597,
   "metadata": {},
   "outputs": [],
   "source": [
    "#Abrindo excel:\n",
    "filename = 'XIAOMI.xlsx'"
   ]
  },
  {
   "cell_type": "code",
   "execution_count": 598,
   "metadata": {},
   "outputs": [
    {
     "data": {
      "text/html": [
       "<div>\n",
       "<style scoped>\n",
       "    .dataframe tbody tr th:only-of-type {\n",
       "        vertical-align: middle;\n",
       "    }\n",
       "\n",
       "    .dataframe tbody tr th {\n",
       "        vertical-align: top;\n",
       "    }\n",
       "\n",
       "    .dataframe thead th {\n",
       "        text-align: right;\n",
       "    }\n",
       "</style>\n",
       "<table border=\"1\" class=\"dataframe\">\n",
       "  <thead>\n",
       "    <tr style=\"text-align: right;\">\n",
       "      <th></th>\n",
       "      <th>TREINAMENTO</th>\n",
       "      <th>CLASSIFICAÇÃO</th>\n",
       "    </tr>\n",
       "  </thead>\n",
       "  <tbody>\n",
       "    <tr>\n",
       "      <th>0</th>\n",
       "      <td>quem aqui tb pronuncia xiaomi xaiomi</td>\n",
       "      <td>0</td>\n",
       "    </tr>\n",
       "    <tr>\n",
       "      <th>1</th>\n",
       "      <td>xiaomi mi true airdots 2s earphone(aliexpress)...</td>\n",
       "      <td>0</td>\n",
       "    </tr>\n",
       "    <tr>\n",
       "      <th>2</th>\n",
       "      <td>@felpsflip carreguei meu xiaomi uma vez na vid...</td>\n",
       "      <td>1</td>\n",
       "    </tr>\n",
       "    <tr>\n",
       "      <th>3</th>\n",
       "      <td>#promo #\\n$133.99 ~ 111,85 € ✂️cupão/cupom/cup...</td>\n",
       "      <td>0</td>\n",
       "    </tr>\n",
       "    <tr>\n",
       "      <th>4</th>\n",
       "      <td>#promo #\\n$299.99 ~ 250,41 € ✂️cupão/cupom/cup...</td>\n",
       "      <td>0</td>\n",
       "    </tr>\n",
       "  </tbody>\n",
       "</table>\n",
       "</div>"
      ],
      "text/plain": [
       "                                         TREINAMENTO  CLASSIFICAÇÃO\n",
       "0               quem aqui tb pronuncia xiaomi xaiomi              0\n",
       "1  xiaomi mi true airdots 2s earphone(aliexpress)...              0\n",
       "2  @felpsflip carreguei meu xiaomi uma vez na vid...              1\n",
       "3  #promo #\\n$133.99 ~ 111,85 € ✂️cupão/cupom/cup...              0\n",
       "4  #promo #\\n$299.99 ~ 250,41 € ✂️cupão/cupom/cup...              0"
      ]
     },
     "execution_count": 598,
     "metadata": {},
     "output_type": "execute_result"
    }
   ],
   "source": [
    "#Armazenando excel dos dados de TREINAMENTO em uma variável e visualizando 5 primeiros termos:\n",
    "train = pd.read_excel(filename)\n",
    "train.head(5)"
   ]
  },
  {
   "cell_type": "code",
   "execution_count": 599,
   "metadata": {},
   "outputs": [
    {
     "data": {
      "text/html": [
       "<div>\n",
       "<style scoped>\n",
       "    .dataframe tbody tr th:only-of-type {\n",
       "        vertical-align: middle;\n",
       "    }\n",
       "\n",
       "    .dataframe tbody tr th {\n",
       "        vertical-align: top;\n",
       "    }\n",
       "\n",
       "    .dataframe thead th {\n",
       "        text-align: right;\n",
       "    }\n",
       "</style>\n",
       "<table border=\"1\" class=\"dataframe\">\n",
       "  <thead>\n",
       "    <tr style=\"text-align: right;\">\n",
       "      <th></th>\n",
       "      <th>Teste</th>\n",
       "      <th>CLASSIFICAÇÃO</th>\n",
       "    </tr>\n",
       "  </thead>\n",
       "  <tbody>\n",
       "    <tr>\n",
       "      <th>0</th>\n",
       "      <td>#promo #\\n$11.99 ~ 10,01 € ✂️cupão/cupom/cupon...</td>\n",
       "      <td>0</td>\n",
       "    </tr>\n",
       "    <tr>\n",
       "      <th>1</th>\n",
       "      <td>💠xiaomi poco m3 \\n\\n💵 por:  r$ 728,27 64gb\\n💵 ...</td>\n",
       "      <td>0</td>\n",
       "    </tr>\n",
       "    <tr>\n",
       "      <th>2</th>\n",
       "      <td>@_faccin_ \"quem ai tem um xiaomi pra ligar o p...</td>\n",
       "      <td>0</td>\n",
       "    </tr>\n",
       "    <tr>\n",
       "      <th>3</th>\n",
       "      <td>comprei mais capinha pro xiaomi https://t.co/7...</td>\n",
       "      <td>0</td>\n",
       "    </tr>\n",
       "    <tr>\n",
       "      <th>4</th>\n",
       "      <td>#promoção #oferta \\n\\n💵 por: r$ 1420 \\n🛒 link:...</td>\n",
       "      <td>0</td>\n",
       "    </tr>\n",
       "  </tbody>\n",
       "</table>\n",
       "</div>"
      ],
      "text/plain": [
       "                                               Teste  CLASSIFICAÇÃO\n",
       "0  #promo #\\n$11.99 ~ 10,01 € ✂️cupão/cupom/cupon...              0\n",
       "1  💠xiaomi poco m3 \\n\\n💵 por:  r$ 728,27 64gb\\n💵 ...              0\n",
       "2  @_faccin_ \"quem ai tem um xiaomi pra ligar o p...              0\n",
       "3  comprei mais capinha pro xiaomi https://t.co/7...              0\n",
       "4  #promoção #oferta \\n\\n💵 por: r$ 1420 \\n🛒 link:...              0"
      ]
     },
     "execution_count": 599,
     "metadata": {},
     "output_type": "execute_result"
    }
   ],
   "source": [
    "#Armazenando excel dos dados de TESTE em uma variável e visualizando 5 primeiros termos:\n",
    "test = pd.read_excel(filename, sheet_name = 'Teste')\n",
    "test.head(5)"
   ]
  },
  {
   "cell_type": "code",
   "execution_count": 600,
   "metadata": {},
   "outputs": [
    {
     "data": {
      "text/html": [
       "<div>\n",
       "<style scoped>\n",
       "    .dataframe tbody tr th:only-of-type {\n",
       "        vertical-align: middle;\n",
       "    }\n",
       "\n",
       "    .dataframe tbody tr th {\n",
       "        vertical-align: top;\n",
       "    }\n",
       "\n",
       "    .dataframe thead th {\n",
       "        text-align: right;\n",
       "    }\n",
       "</style>\n",
       "<table border=\"1\" class=\"dataframe\">\n",
       "  <thead>\n",
       "    <tr style=\"text-align: right;\">\n",
       "      <th></th>\n",
       "      <th>Teste</th>\n",
       "    </tr>\n",
       "  </thead>\n",
       "  <tbody>\n",
       "    <tr>\n",
       "      <th>0</th>\n",
       "      <td>#promo #\\n$11.99 ~ 10,01 € ✂️cupão/cupom/cupon...</td>\n",
       "    </tr>\n",
       "    <tr>\n",
       "      <th>1</th>\n",
       "      <td>💠xiaomi poco m3 \\n\\n💵 por:  r$ 728,27 64gb\\n💵 ...</td>\n",
       "    </tr>\n",
       "    <tr>\n",
       "      <th>2</th>\n",
       "      <td>@_faccin_ \"quem ai tem um xiaomi pra ligar o p...</td>\n",
       "    </tr>\n",
       "    <tr>\n",
       "      <th>3</th>\n",
       "      <td>comprei mais capinha pro xiaomi https://t.co/7...</td>\n",
       "    </tr>\n",
       "    <tr>\n",
       "      <th>4</th>\n",
       "      <td>#promoção #oferta \\n\\n💵 por: r$ 1420 \\n🛒 link:...</td>\n",
       "    </tr>\n",
       "    <tr>\n",
       "      <th>...</th>\n",
       "      <td>...</td>\n",
       "    </tr>\n",
       "    <tr>\n",
       "      <th>254</th>\n",
       "      <td>rt @victorxama: salve rapa, tô vendendo meu xi...</td>\n",
       "    </tr>\n",
       "    <tr>\n",
       "      <th>255</th>\n",
       "      <td>@mslaryhill tenho um haylou gt1 pro q é da mes...</td>\n",
       "    </tr>\n",
       "    <tr>\n",
       "      <th>256</th>\n",
       "      <td>@gabiiii__araujo 😱😱😱\\n\\n*baixou mais!!*\\n\\n*xi...</td>\n",
       "    </tr>\n",
       "    <tr>\n",
       "      <th>257</th>\n",
       "      <td>@inutializador @viniport0 @2kjuramento @pessoa...</td>\n",
       "    </tr>\n",
       "    <tr>\n",
       "      <th>258</th>\n",
       "      <td>rt @amt_online: saiba como usar o celular sem ...</td>\n",
       "    </tr>\n",
       "  </tbody>\n",
       "</table>\n",
       "<p>259 rows × 1 columns</p>\n",
       "</div>"
      ],
      "text/plain": [
       "                                                 Teste\n",
       "0    #promo #\\n$11.99 ~ 10,01 € ✂️cupão/cupom/cupon...\n",
       "1    💠xiaomi poco m3 \\n\\n💵 por:  r$ 728,27 64gb\\n💵 ...\n",
       "2    @_faccin_ \"quem ai tem um xiaomi pra ligar o p...\n",
       "3    comprei mais capinha pro xiaomi https://t.co/7...\n",
       "4    #promoção #oferta \\n\\n💵 por: r$ 1420 \\n🛒 link:...\n",
       "..                                                 ...\n",
       "254  rt @victorxama: salve rapa, tô vendendo meu xi...\n",
       "255  @mslaryhill tenho um haylou gt1 pro q é da mes...\n",
       "256  @gabiiii__araujo 😱😱😱\\n\\n*baixou mais!!*\\n\\n*xi...\n",
       "257  @inutializador @viniport0 @2kjuramento @pessoa...\n",
       "258  rt @amt_online: saiba como usar o celular sem ...\n",
       "\n",
       "[259 rows x 1 columns]"
      ]
     },
     "execution_count": 600,
     "metadata": {},
     "output_type": "execute_result"
    }
   ],
   "source": [
    "#Selecionando linhas dos dados TESTE pelo método de seleção ILOC:\n",
    "test.iloc[:,0:1]"
   ]
  },
  {
   "cell_type": "markdown",
   "metadata": {},
   "source": [
    "## Descrição do produto escolhido\n",
    "    \n",
    "   A empresa escolhida foi a Xiaomi, \"uma empresa multinacional chinesa do ramo da tecnologia e manufatura de produtos eletrônicos com sede em Pequim. A Xiaomi desenvolve, investe, produz e distribui smartphones, notebooks, smartbands, fones de ouvido, televisões, dispositivos para casas inteligentes, e muitos outros produtos.\"\n",
    "    \n",
    "    Fonte: https://pt.wikipedia.org/wiki/Xiaomi\n",
    "   \n",
    "\n",
    "## Critérios de classificação dos tweets:\n",
    "   Escolhida a empresa e seus produtos, classificamos como tweets relevantes toda e qualquer citação, positiva ou negativa, referente às citações dos internautas acerca do produto. Tweets considerados como \"irrelevantes\" foram denominados como tweets não relacionados diretamente ao produto. Além disso, os tweets considerados relevantes expressavam algum sentimento em relação aos produtos da empresa, seja de felicidade, ansiedade acerca da compra, tristeza, decepção, entre outros."
   ]
  },
  {
   "cell_type": "markdown",
   "metadata": {},
   "source": [
    "___\n",
    "# Montando um Classificador Naive-Bayes\n",
    "\n",
    "O algoritmo “Naive Bayes” é um classificador probabilístico muito utilizado em machine learning. Baseado no “Teorema de Bayes”, o modelo foi criado por um matemático inglês, e também ministro presibiteriano, chamado Thomas Bayes (1701 – 1761) para tentar provar a existência de Deus.\n",
    "\n",
    "Hoje é também utilizado na área de Aprendizado de Máquina (Machine Learning) para categorizar textos com base na frequência das palavras usadas.\n",
    "\n",
    "Entre as possibilidades de aplicações está a classificação de um e-mail como SPAM ou Não-SPAM e a identificação de um assunto com base em seu conteúdo.\n",
    "\n",
    "Ele recebe o nome de “naive” (ingênuo) porque desconsidera a correlação entre as variáveis (features). Ou seja, se determinada fruta é rotulada como “Limão”, caso ela também seja descrita como “Verde” e “Redonda”, o algoritmo não vai levar em consideração a correlação entre esses fatores. Isso porque trata cada um de forma independente.\n",
    "\n",
    "Fonte: https://www.datageeks.com.br/naive-bayes/"
   ]
  },
  {
   "cell_type": "markdown",
   "metadata": {},
   "source": [
    "**EVENTOS**\n",
    "\n",
    " * $R$: tweets relevantes\n",
    " * $R^c$: tweets irrelevantes\n",
    " * $C$: tweet recebido"
   ]
  },
  {
   "cell_type": "markdown",
   "metadata": {},
   "source": [
    "**PROBABILIDADES**\n",
    "\n",
    " * $P(R)$ : probabilidade de um tweet ser relevante ;\n",
    " * $P(R^c)$: probabilidade de um tweet não ser relevante, ou seja, irrelevante ;\n",
    " * $P(C)$ : probabilidade de cada tweet ocorrer na língua portuguesa ;\n",
    " * $P(C|R)$ : probabilidade do tweet existir dado o conjunto de tweets relevantes ;\n",
    " * $P(C|R^c)$: probabilidade do tweet existir dado o conjunto de tweets irrelevantes ; \n",
    " * $P(R|C)$: probabilidade do tweet ser relevante dado a frase ;\n",
    " * $P(R^c|C)$: probabilidade do tweet ser irrelevante dado a frase;\n"
   ]
  },
  {
   "cell_type": "markdown",
   "metadata": {},
   "source": [
    "\n",
    "$$P(R|C) = \\frac{P(C|R) \\cdot P(R)}{P(C)}$$\n",
    "\n"
   ]
  },
  {
   "cell_type": "markdown",
   "metadata": {},
   "source": [
    "### Funções criadas:"
   ]
  },
  {
   "cell_type": "code",
   "execution_count": 601,
   "metadata": {},
   "outputs": [],
   "source": [
    "#Importando novas bibliotecas importantes para construção das funções:\n",
    "import re \n",
    "from nltk.tokenize.casual import TweetTokenizer #separa os emojis como palavras.\n",
    "\n",
    "#Limpeza de mensagens removendo os caracteres: enter, :, \", ', (, ), etc sem remoção de emojis + outras propostas de limpezas:\n",
    "def cleanup(text):\n",
    "    #import string\n",
    "    punctuation = '[!-@.~[\\]:\"''?;\\),(\"/]' # Note que os sinais [] são delimitadores de um conjunto.\n",
    "    pattern = re.compile(punctuation)\n",
    "    text_subbed = re.sub(pattern, '', text)\n",
    "    text_subbed = re.sub(r'http\\S+', '',text_subbed)\n",
    "    t = TweetTokenizer()\n",
    "    text_subbed = t.tokenize(text_subbed) \n",
    "    return text_subbed\n",
    "\n",
    "#Correção de espaços entre palavras e/ou emojis.\n",
    "def RemoveStopWords(list_of_words):\n",
    "    stopwords = nltk.corpus.stopwords.words('portuguese')\n",
    "    lista_filtrada = []\n",
    "    for word in list_of_words:\n",
    "        if word not in stopwords:\n",
    "            lista_filtrada.append(word)\n",
    "    return lista_filtrada\n",
    "\n",
    "#Prever classe do conjunto, resolver problema de frequência zero\n",
    "def Suavizacao_Laplace(variavel1, variavel2, variavel3):\n",
    "    y = (1 + variavel1)/(variavel2 + len(variavel3))  \n",
    "    return y\n",
    "\n",
    "#Multiplicando valores de listas\n",
    "def MultiplyList(List) : \n",
    "    result = 1\n",
    "    for x in List: \n",
    "         result = result * x  \n",
    "    return result\n"
   ]
  },
  {
   "cell_type": "markdown",
   "metadata": {},
   "source": [
    "## Criando variáveis com palavras juntadas e as limpando:"
   ]
  },
  {
   "cell_type": "code",
   "execution_count": 602,
   "metadata": {},
   "outputs": [],
   "source": [
    "#JUNTANDO TODAS AS PALAVRAS DOS TWEETS RELEVANTES DO TREINAMENTO\n",
    "train_relevante = train.loc[train[\"CLASSIFICAÇÃO\"] == 1, :]\n",
    "train_relevante_filtrada = ' '.join(train_relevante.TREINAMENTO) \n",
    "\n",
    "#JUNTANDO TODAS AS PALAVRAS DOS TWEETS IRRELEVANTES DO TREINAMENTO\n",
    "train_irrelevante = train.loc[train[\"CLASSIFICAÇÃO\"] == 0, :]\n",
    "train_irrelevante_filtrada = ' '.join(train_irrelevante.TREINAMENTO) \n"
   ]
  },
  {
   "cell_type": "code",
   "execution_count": 603,
   "metadata": {},
   "outputs": [],
   "source": [
    "#LIMPANDO VARIÁVEIS CRIADAS, COLOCANDO EM MINÚSCULO E AS GUARDANDO\n",
    "relevante = cleanup(train_relevante_filtrada.lower())\n",
    "palavras_relevantes = RemoveStopWords(relevante)\n",
    "\n",
    "irrelevante = cleanup(train_irrelevante_filtrada.lower())\n",
    "palavras_irrelevantes = RemoveStopWords(irrelevante)\n",
    "\n",
    "#JUNTANDO OS CONJUNTOS\n",
    "palavras_total = palavras_relevantes + palavras_irrelevantes\n"
   ]
  },
  {
   "cell_type": "code",
   "execution_count": 604,
   "metadata": {},
   "outputs": [],
   "source": [
    "#TRANSFORMANDO EM PD.SERIES\n",
    "series_total = pd.Series(palavras_total)\n",
    "series_train_relevante = pd.Series(palavras_relevantes)\n",
    "series_train_irrelevante = pd.Series(palavras_irrelevantes)\n"
   ]
  },
  {
   "cell_type": "markdown",
   "metadata": {},
   "source": [
    "## Fazendo cálculo de frequências:\n"
   ]
  },
  {
   "cell_type": "code",
   "execution_count": 605,
   "metadata": {},
   "outputs": [],
   "source": [
    "#FREQUÊNCIAS RELATIVAS\n",
    "\n",
    "palavras_total_relativas = series_total.value_counts(True)\n",
    "palavras_relevante_relativas = series_train_relevante.value_counts(True)\n",
    "palavras_irrelevante_relativas = series_train_irrelevante.value_counts(True)"
   ]
  },
  {
   "cell_type": "code",
   "execution_count": 606,
   "metadata": {},
   "outputs": [],
   "source": [
    "#FREQUÊNCIAS ABSOLUTAS\n",
    "\n",
    "palavras_relevante_absolutas = series_train_relevante.value_counts()\n",
    "palavras_irrelevante_absolutas = series_train_irrelevante.value_counts()\n",
    "palavras_total_absolutas = series_total.value_counts()\n"
   ]
  },
  {
   "cell_type": "markdown",
   "metadata": {},
   "source": [
    "# Atribuindo função ao classificador"
   ]
  },
  {
   "cell_type": "code",
   "execution_count": 607,
   "metadata": {},
   "outputs": [],
   "source": [
    "def funcao_classificadora(test):\n",
    "    \n",
    "    lista_resultados = []\n",
    "    \n",
    "    test['Classificação_NB'] = 'NaN'\n",
    "    \n",
    "    for tweet in list(test.iloc[:,0]):\n",
    "        \n",
    "        tweet_limpo = RemoveStopWords(cleanup(tweet.lower()))\n",
    "        lista_de_probabilidades1 = []\n",
    "        lista_de_probabilidades2 = []\n",
    "        \n",
    "        for palavra in tweet_limpo:\n",
    "            \n",
    "            if (palavra in palavras_relevante_absolutas) & (palavra not in palavras_irrelevante_absolutas):\n",
    "                Laplace = Suavizacao_Laplace(palavras_relevante_absolutas[palavra],palavras_relevante_absolutas.sum(),palavras_total_absolutas)\n",
    "                lista_de_probabilidades1.append(Laplace)\n",
    "                Laplace = Suavizacao_Laplace(0,palavras_irrelevante_absolutas.sum(),palavras_total_absolutas)\n",
    "                lista_de_probabilidades2.append(Laplace)\n",
    "                \n",
    "            elif (palavra not in palavras_relevante_absolutas) & (palavra in palavras_irrelevante_absolutas):\n",
    "                Laplace = Suavizacao_Laplace(palavras_irrelevante_absolutas[palavra],palavras_irrelevante_absolutas.sum(),palavras_total_absolutas)\n",
    "                lista_de_probabilidades2.append(Laplace)\n",
    "                Laplace = Suavizacao_Laplace(0,palavras_relevante_absolutas.sum(),palavras_total_absolutas)\n",
    "                lista_de_probabilidades1.append(Laplace)\n",
    "                \n",
    "            elif (palavra in palavras_relevante_absolutas) & (palavra in palavras_irrelevante_absolutas):\n",
    "                Laplace = Suavizacao_Laplace(palavras_relevante_absolutas[palavra],palavras_relevante_absolutas.sum(),palavras_total_absolutas)\n",
    "                lista_de_probabilidades1.append(Laplace)\n",
    "                Laplace = Suavizacao_Laplace(palavras_irrelevante_absolutas[palavra],palavras_irrelevante_absolutas.sum(),palavras_total_absolutas)\n",
    "                lista_de_probabilidades2.append(Laplace)\n",
    "            \n",
    "            elif palavra == 'xiaomi':\n",
    "                continue\n",
    "                \n",
    "            else:\n",
    "                Laplace = Suavizacao_Laplace(0,palavras_relevante_absolutas.sum(),palavras_total_absolutas)\n",
    "                lista_de_probabilidades1.append(Laplace)\n",
    "                Laplace = Suavizacao_Laplace(0,palavras_irrelevante_absolutas.sum(),palavras_total_absolutas)\n",
    "                lista_de_probabilidades2.append(Laplace)\n",
    "                \n",
    "            P_C_dado_R = MultiplyList(lista_de_probabilidades1)\n",
    "            P_C_dado_Rc = MultiplyList(lista_de_probabilidades2)\n",
    "\n",
    "        P_R = (palavras_relevante_absolutas.sum())/(palavras_total_absolutas.sum())\n",
    "    \n",
    "        P_Rc = 1 - P_R\n",
    "        \n",
    "        P_R_dado_C = P_R * P_C_dado_R\n",
    "\n",
    "        P_Rc_dado_C = P_Rc * P_C_dado_Rc            \n",
    "        \n",
    "        if P_R_dado_C > P_Rc_dado_C:\n",
    "            resultado = 1\n",
    "        else:\n",
    "            resultado = 0\n",
    "        \n",
    "        lista_resultados.append(resultado)\n",
    "    test['Classificação_NB'] = lista_resultados\n",
    "    return test\n",
    "    "
   ]
  },
  {
   "cell_type": "markdown",
   "metadata": {},
   "source": [
    "___\n",
    "# Verificando a performance do classificador e resultados:\n",
    "\n"
   ]
  },
  {
   "cell_type": "code",
   "execution_count": 609,
   "metadata": {},
   "outputs": [
    {
     "data": {
      "text/html": [
       "<div>\n",
       "<style scoped>\n",
       "    .dataframe tbody tr th:only-of-type {\n",
       "        vertical-align: middle;\n",
       "    }\n",
       "\n",
       "    .dataframe tbody tr th {\n",
       "        vertical-align: top;\n",
       "    }\n",
       "\n",
       "    .dataframe thead th {\n",
       "        text-align: right;\n",
       "    }\n",
       "</style>\n",
       "<table border=\"1\" class=\"dataframe\">\n",
       "  <thead>\n",
       "    <tr style=\"text-align: right;\">\n",
       "      <th></th>\n",
       "      <th>Teste</th>\n",
       "      <th>CLASSIFICAÇÃO</th>\n",
       "      <th>Classificação_NB</th>\n",
       "    </tr>\n",
       "  </thead>\n",
       "  <tbody>\n",
       "    <tr>\n",
       "      <th>0</th>\n",
       "      <td>#promo #\\n$11.99 ~ 10,01 € ✂️cupão/cupom/cupon...</td>\n",
       "      <td>0</td>\n",
       "      <td>0</td>\n",
       "    </tr>\n",
       "    <tr>\n",
       "      <th>1</th>\n",
       "      <td>💠xiaomi poco m3 \\n\\n💵 por:  r$ 728,27 64gb\\n💵 ...</td>\n",
       "      <td>0</td>\n",
       "      <td>0</td>\n",
       "    </tr>\n",
       "    <tr>\n",
       "      <th>2</th>\n",
       "      <td>@_faccin_ \"quem ai tem um xiaomi pra ligar o p...</td>\n",
       "      <td>0</td>\n",
       "      <td>1</td>\n",
       "    </tr>\n",
       "    <tr>\n",
       "      <th>3</th>\n",
       "      <td>comprei mais capinha pro xiaomi https://t.co/7...</td>\n",
       "      <td>0</td>\n",
       "      <td>0</td>\n",
       "    </tr>\n",
       "    <tr>\n",
       "      <th>4</th>\n",
       "      <td>#promoção #oferta \\n\\n💵 por: r$ 1420 \\n🛒 link:...</td>\n",
       "      <td>0</td>\n",
       "      <td>0</td>\n",
       "    </tr>\n",
       "    <tr>\n",
       "      <th>...</th>\n",
       "      <td>...</td>\n",
       "      <td>...</td>\n",
       "      <td>...</td>\n",
       "    </tr>\n",
       "    <tr>\n",
       "      <th>254</th>\n",
       "      <td>rt @victorxama: salve rapa, tô vendendo meu xi...</td>\n",
       "      <td>0</td>\n",
       "      <td>0</td>\n",
       "    </tr>\n",
       "    <tr>\n",
       "      <th>255</th>\n",
       "      <td>@mslaryhill tenho um haylou gt1 pro q é da mes...</td>\n",
       "      <td>1</td>\n",
       "      <td>1</td>\n",
       "    </tr>\n",
       "    <tr>\n",
       "      <th>256</th>\n",
       "      <td>@gabiiii__araujo 😱😱😱\\n\\n*baixou mais!!*\\n\\n*xi...</td>\n",
       "      <td>0</td>\n",
       "      <td>0</td>\n",
       "    </tr>\n",
       "    <tr>\n",
       "      <th>257</th>\n",
       "      <td>@inutializador @viniport0 @2kjuramento @pessoa...</td>\n",
       "      <td>1</td>\n",
       "      <td>1</td>\n",
       "    </tr>\n",
       "    <tr>\n",
       "      <th>258</th>\n",
       "      <td>rt @amt_online: saiba como usar o celular sem ...</td>\n",
       "      <td>0</td>\n",
       "      <td>1</td>\n",
       "    </tr>\n",
       "  </tbody>\n",
       "</table>\n",
       "<p>259 rows × 3 columns</p>\n",
       "</div>"
      ],
      "text/plain": [
       "                                                 Teste  CLASSIFICAÇÃO  \\\n",
       "0    #promo #\\n$11.99 ~ 10,01 € ✂️cupão/cupom/cupon...              0   \n",
       "1    💠xiaomi poco m3 \\n\\n💵 por:  r$ 728,27 64gb\\n💵 ...              0   \n",
       "2    @_faccin_ \"quem ai tem um xiaomi pra ligar o p...              0   \n",
       "3    comprei mais capinha pro xiaomi https://t.co/7...              0   \n",
       "4    #promoção #oferta \\n\\n💵 por: r$ 1420 \\n🛒 link:...              0   \n",
       "..                                                 ...            ...   \n",
       "254  rt @victorxama: salve rapa, tô vendendo meu xi...              0   \n",
       "255  @mslaryhill tenho um haylou gt1 pro q é da mes...              1   \n",
       "256  @gabiiii__araujo 😱😱😱\\n\\n*baixou mais!!*\\n\\n*xi...              0   \n",
       "257  @inutializador @viniport0 @2kjuramento @pessoa...              1   \n",
       "258  rt @amt_online: saiba como usar o celular sem ...              0   \n",
       "\n",
       "     Classificação_NB  \n",
       "0                   0  \n",
       "1                   0  \n",
       "2                   1  \n",
       "3                   0  \n",
       "4                   0  \n",
       "..                ...  \n",
       "254                 0  \n",
       "255                 1  \n",
       "256                 0  \n",
       "257                 1  \n",
       "258                 1  \n",
       "\n",
       "[259 rows x 3 columns]"
      ]
     },
     "execution_count": 609,
     "metadata": {},
     "output_type": "execute_result"
    }
   ],
   "source": [
    "teste = funcao_classificadora(test)\n",
    "teste"
   ]
  },
  {
   "cell_type": "code",
   "execution_count": 610,
   "metadata": {},
   "outputs": [
    {
     "data": {
      "text/plain": [
       "Index(['Irrelevante', 'Relevante'], dtype='object')"
      ]
     },
     "execution_count": 610,
     "metadata": {},
     "output_type": "execute_result"
    }
   ],
   "source": [
    "#Definindo variáveis da planilha como variáveis categóricas e suas respectivas categorias \n",
    "teste['CLASSIFICAÇÃO'] = teste['CLASSIFICAÇÃO'].astype('category')\n",
    "teste['CLASSIFICAÇÃO'].cat.categories = ['Irrelevante', 'Relevante']\n",
    "teste['CLASSIFICAÇÃO'].cat.categories"
   ]
  },
  {
   "cell_type": "code",
   "execution_count": 611,
   "metadata": {},
   "outputs": [
    {
     "data": {
      "text/plain": [
       "Index(['Irrelevante', 'Relevante'], dtype='object')"
      ]
     },
     "execution_count": 611,
     "metadata": {},
     "output_type": "execute_result"
    }
   ],
   "source": [
    "#Definindo variáveis do classificador como variáveis categóricas e suas respectivas categorias \n",
    "teste['Classificação_NB'] = teste['Classificação_NB'].astype('category')\n",
    "teste['Classificação_NB'].cat.categories = ['Irrelevante', 'Relevante']\n",
    "teste['Classificação_NB'].cat.categories"
   ]
  },
  {
   "cell_type": "markdown",
   "metadata": {},
   "source": [
    "### Comparando resultados"
   ]
  },
  {
   "cell_type": "code",
   "execution_count": 612,
   "metadata": {},
   "outputs": [
    {
     "data": {
      "text/html": [
       "<div>\n",
       "<style scoped>\n",
       "    .dataframe tbody tr th:only-of-type {\n",
       "        vertical-align: middle;\n",
       "    }\n",
       "\n",
       "    .dataframe tbody tr th {\n",
       "        vertical-align: top;\n",
       "    }\n",
       "\n",
       "    .dataframe thead th {\n",
       "        text-align: right;\n",
       "    }\n",
       "</style>\n",
       "<table border=\"1\" class=\"dataframe\">\n",
       "  <thead>\n",
       "    <tr style=\"text-align: right;\">\n",
       "      <th>CLASSIFICAÇÃO</th>\n",
       "      <th>Irrelevante</th>\n",
       "      <th>Relevante</th>\n",
       "    </tr>\n",
       "    <tr>\n",
       "      <th>Classificação_NB</th>\n",
       "      <th></th>\n",
       "      <th></th>\n",
       "    </tr>\n",
       "  </thead>\n",
       "  <tbody>\n",
       "    <tr>\n",
       "      <th>Irrelevante</th>\n",
       "      <td>0.3089</td>\n",
       "      <td>0.0656</td>\n",
       "    </tr>\n",
       "    <tr>\n",
       "      <th>Relevante</th>\n",
       "      <td>0.1660</td>\n",
       "      <td>0.4595</td>\n",
       "    </tr>\n",
       "  </tbody>\n",
       "</table>\n",
       "</div>"
      ],
      "text/plain": [
       "CLASSIFICAÇÃO     Irrelevante  Relevante\n",
       "Classificação_NB                        \n",
       "Irrelevante            0.3089     0.0656\n",
       "Relevante              0.1660     0.4595"
      ]
     },
     "execution_count": 612,
     "metadata": {},
     "output_type": "execute_result"
    }
   ],
   "source": [
    "#Comparando resultados das classicação entre o planilha e o classificador Naive Bayes por meio do comando CrossTab\n",
    "\n",
    "tabela = pd.crosstab(teste.Classificação_NB, teste.CLASSIFICAÇÃO, normalize = True).round(4)\n",
    "tabela"
   ]
  },
  {
   "cell_type": "markdown",
   "metadata": {},
   "source": [
    "### Extraindo contagens:"
   ]
  },
  {
   "cell_type": "code",
   "execution_count": 613,
   "metadata": {},
   "outputs": [
    {
     "name": "stdout",
     "output_type": "stream",
     "text": [
      "A porcentagem de verdadeiros positivos é: 45.95%\n",
      "\n",
      "A porcentagem de falsos positivos é: 16.60%\n",
      "\n",
      "A porcentagem de verdadeiros negativos é: 30.89%\n",
      "\n",
      "A porcentagem de falsos negativos é: 6.56%\n",
      "\n",
      "Portanto, a eficácia do classificador é de: 76.84%\n",
      "\n"
     ]
    }
   ],
   "source": [
    "verdadeiros_positivos = tabela.iloc[1,1]*100\n",
    "falsos_positivos = tabela.iloc[1,0]*100\n",
    "verdadeiros_negativos = tabela.iloc[0,0]*100\n",
    "falsos_negativos = tabela.iloc[0,1]*100\n",
    "\n",
    "#calculando eficácia:\n",
    "eficacia = verdadeiros_positivos + verdadeiros_negativos\n",
    "eficacia\n",
    "\n",
    "print('A porcentagem de verdadeiros positivos é: {:.2f}%\\n'.format(verdadeiros_positivos))\n",
    "print('A porcentagem de falsos positivos é: {:.2f}%\\n'.format(falsos_positivos))\n",
    "print('A porcentagem de verdadeiros negativos é: {:.2f}%\\n'.format(verdadeiros_negativos))\n",
    "print('A porcentagem de falsos negativos é: {:.2f}%\\n'.format(falsos_negativos))\n",
    "print('Portanto, a eficácia do classificador é de: {:.2f}%\\n'.format(eficacia))\n"
   ]
  },
  {
   "cell_type": "markdown",
   "metadata": {},
   "source": [
    "___\n",
    "# Conclusão"
   ]
  },
  {
   "cell_type": "markdown",
   "metadata": {},
   "source": [
    "\n",
    "- ## Comparativos qualitativos:\n",
    " \n",
    "   Dada a junção das porcentagens de verdadeiros positivos e verdadeiros negativos, foi possível perceber que a eficácia do classificador foi de 76,84%. Isso evidência que de um total de 100%, apenas existiria aproximadamente 23,16% de \"falha\" do classificador, classificando o classificador como bom. Apesar de terem que ser realizadas muitas melhorias, a porcentagem de verdadeiros positivos em comparação com verdadeiros negativos e a porcentagem de falsos positivos em comparação a falsos negativos, em ambos os casos, se sobressaem, reafirmando a classificação designada ao Bayes.\n",
    "    Acerca das mensagens tratadas com dupla negação e sacarmo, estas não foram interpretadas pelo classificador, uma vez que a parte ingênua do Naive Bayes consiste em assumir que as palavras são independentes entre si e que sua ordem na frase não importa, assim ignorando esse tratamento.\n",
    " \n",
    "    - ### Por qual motivo a base de treinamento não pode ser alimentada automaticamente pelo próprio classificador?\n",
    "        Por conta da ingenuidade do classificador ao assumir que as palavras são independentes, torna-se inviável a classificação automáticada de tweets, uma vez que a classificação se tornaria largamente imprecisa. Nesse contexto, ao chegarem novos tweets para serem classificados na base de dados, não seria possível ter um resultado preciso se fosse classificado automaticamente, pois com uma amplitude maior por parte das classificações incorretas e, consequentemente, as probabilidades retornadas pelo modelo também estariam incorretas, tornando os resultados muito imprecisos.\n",
    "\n",
    "    - ### Projeto de expansão e melhorias do classificador\n",
    "        Dada a ingenuidade do classificador, seria interessante se fosse possível a troca do classificador por outro mais preciso (como citados nesse link (https://bitlybr.com/87Uwox). Ou até melhorar o Bayes em termos de precisão para ter resultados cada vez mais convincentes, mas para isso, uma das possibilidades seria a combinação com outros classificadores que objetificam a \"dependência entre elementos\", como explicado no artigo científico de Aloísio Carlos de Pina e Gerson Zaverucha realizado na Universidade Federal do Rio de Janeiro (UFRJ) (https://www.cos.ufrj.br/~ines/enia07_html/pdf/28095.pdf).\n",
    "        Outra melhora a ser citada e um possível projeto expansão, seria primeiramente, dentro das citações acerca da empresa (grupo de relevantes) os classificar em novas categorias, como \"Favoráveis\" e \"Desfavoráveis\" por exemplo, voltado para algum produto específico dentro da empresa. Isso objetificaria ainda mais o resultado e tornaria algo bem mais específico. Além do que, trazer mais dados ao banco de dados também seria muito interessante do ponto de vista de resultado e precisão. Com isso, o motivo para ter uma continuidade de financiamento, seria as possibilidades que essas melhorias e expansões trariam. \n",
    "\n",
    "\n",
    "- ### Proposta do classificador em outros contextos\n",
    "\n",
    "    Alguns contextos nos quais esse tipo de classificador poderia ser utilizado inicialmente seria como algoritmo para mapear a intenção de pesquisa de um determinado usuário, se baseando nas pesquisas feitas anteriormente. Outro possível utilização também seria no contexto econômico, no sentido de prever a situação financeira futura de uma empresa em um determinado ano, baseando-se nos dados obtidos em anos anteriormente. Dentre outras possíveis utilizações, a identificação de falhas em um determinado produto também seria viável, uma vez levado em conta a comparação entre a classificação manual dos funcionários e a classificação do Naive Bayes."
   ]
  },
  {
   "cell_type": "markdown",
   "metadata": {},
   "source": [
    "___\n",
    "## Qualidade do Classificador a partir de novas separações dos tweets entre Treinamento e Teste\n"
   ]
  },
  {
   "cell_type": "markdown",
   "metadata": {},
   "source": [
    "### Juntando os dataframes para serem separados aleatoriamente depois:"
   ]
  },
  {
   "cell_type": "code",
   "execution_count": 614,
   "metadata": {},
   "outputs": [
    {
     "data": {
      "text/html": [
       "<div>\n",
       "<style scoped>\n",
       "    .dataframe tbody tr th:only-of-type {\n",
       "        vertical-align: middle;\n",
       "    }\n",
       "\n",
       "    .dataframe tbody tr th {\n",
       "        vertical-align: top;\n",
       "    }\n",
       "\n",
       "    .dataframe thead th {\n",
       "        text-align: right;\n",
       "    }\n",
       "</style>\n",
       "<table border=\"1\" class=\"dataframe\">\n",
       "  <thead>\n",
       "    <tr style=\"text-align: right;\">\n",
       "      <th></th>\n",
       "      <th>Todos</th>\n",
       "      <th>CLASSIFICAÇÃO</th>\n",
       "    </tr>\n",
       "  </thead>\n",
       "  <tbody>\n",
       "    <tr>\n",
       "      <th>0</th>\n",
       "      <td>#promo #\\n$11.99 ~ 10,01 € ✂️cupão/cupom/cupon...</td>\n",
       "      <td>0</td>\n",
       "    </tr>\n",
       "    <tr>\n",
       "      <th>1</th>\n",
       "      <td>💠xiaomi poco m3 \\n\\n💵 por:  r$ 728,27 64gb\\n💵 ...</td>\n",
       "      <td>0</td>\n",
       "    </tr>\n",
       "    <tr>\n",
       "      <th>2</th>\n",
       "      <td>@_faccin_ \"quem ai tem um xiaomi pra ligar o p...</td>\n",
       "      <td>0</td>\n",
       "    </tr>\n",
       "    <tr>\n",
       "      <th>3</th>\n",
       "      <td>comprei mais capinha pro xiaomi https://t.co/7...</td>\n",
       "      <td>0</td>\n",
       "    </tr>\n",
       "    <tr>\n",
       "      <th>4</th>\n",
       "      <td>#promoção #oferta \\n\\n💵 por: r$ 1420 \\n🛒 link:...</td>\n",
       "      <td>0</td>\n",
       "    </tr>\n",
       "    <tr>\n",
       "      <th>...</th>\n",
       "      <td>...</td>\n",
       "      <td>...</td>\n",
       "    </tr>\n",
       "    <tr>\n",
       "      <th>295</th>\n",
       "      <td>vivendo e aprendendo e amando a xiaomi cada ve...</td>\n",
       "      <td>1</td>\n",
       "    </tr>\n",
       "    <tr>\n",
       "      <th>296</th>\n",
       "      <td>@cocadws cê usa xiaomi?</td>\n",
       "      <td>0</td>\n",
       "    </tr>\n",
       "    <tr>\n",
       "      <th>297</th>\n",
       "      <td>xiaomi lança novos wallpapers com obras holand...</td>\n",
       "      <td>0</td>\n",
       "    </tr>\n",
       "    <tr>\n",
       "      <th>298</th>\n",
       "      <td>@tec_mundo alô @xiaomibrasil @xiaomi  queremos...</td>\n",
       "      <td>0</td>\n",
       "    </tr>\n",
       "    <tr>\n",
       "      <th>299</th>\n",
       "      <td>xiaomi poco m3 4/64gb versão global amarelo(al...</td>\n",
       "      <td>0</td>\n",
       "    </tr>\n",
       "  </tbody>\n",
       "</table>\n",
       "<p>559 rows × 2 columns</p>\n",
       "</div>"
      ],
      "text/plain": [
       "                                                 Todos  CLASSIFICAÇÃO\n",
       "0    #promo #\\n$11.99 ~ 10,01 € ✂️cupão/cupom/cupon...              0\n",
       "1    💠xiaomi poco m3 \\n\\n💵 por:  r$ 728,27 64gb\\n💵 ...              0\n",
       "2    @_faccin_ \"quem ai tem um xiaomi pra ligar o p...              0\n",
       "3    comprei mais capinha pro xiaomi https://t.co/7...              0\n",
       "4    #promoção #oferta \\n\\n💵 por: r$ 1420 \\n🛒 link:...              0\n",
       "..                                                 ...            ...\n",
       "295  vivendo e aprendendo e amando a xiaomi cada ve...              1\n",
       "296                            @cocadws cê usa xiaomi?              0\n",
       "297  xiaomi lança novos wallpapers com obras holand...              0\n",
       "298  @tec_mundo alô @xiaomibrasil @xiaomi  queremos...              0\n",
       "299  xiaomi poco m3 4/64gb versão global amarelo(al...              0\n",
       "\n",
       "[559 rows x 2 columns]"
      ]
     },
     "execution_count": 614,
     "metadata": {},
     "output_type": "execute_result"
    }
   ],
   "source": [
    "# Criação de novos dataframes\n",
    "\n",
    "novo_test = pd.read_excel(filename, sheet_name = 'Teste')\n",
    "novo_test = novo_test.rename(columns={'Teste':'Todos'})\n",
    "\n",
    "novo_train = pd.read_excel(filename, sheet_name = 'Treinamento')\n",
    "novo_train = novo_train.rename(columns={'TREINAMENTO':'Todos'})\n",
    "\n",
    "total = pd.concat([novo_test,novo_train])\n",
    "dataframe_total = pd.DataFrame(total)\n",
    "dataframe_total"
   ]
  },
  {
   "cell_type": "markdown",
   "metadata": {},
   "source": [
    "### Classificando 100 vezes trocando as bases de dados:"
   ]
  },
  {
   "cell_type": "code",
   "execution_count": 615,
   "metadata": {},
   "outputs": [],
   "source": [
    "lista_eficacia = []\n",
    "\n",
    "for i in range(100):\n",
    "    train2, test2 = train_test_split(total, test_size=259)\n",
    "    \n",
    "    train_relevante2 = train2.loc[train2[\"CLASSIFICAÇÃO\"] == 1, :]\n",
    "    train_relevante_filtrada2 = ' '.join(train_relevante2.Todos) \n",
    "\n",
    "    train_irrelevante2 = train2.loc[train2[\"CLASSIFICAÇÃO\"] == 0, :]\n",
    "    train_irrelevante_filtrada2 = ' '.join(train_irrelevante2.Todos) \n",
    "\n",
    "    relevante2 = cleanup(train_relevante_filtrada2.lower())\n",
    "    palavras_relevantes2 = RemoveStopWords(relevante2)\n",
    "\n",
    "    irrelevante2 = cleanup(train_irrelevante_filtrada2.lower())\n",
    "    palavras_irrelevantes2 = RemoveStopWords(irrelevante2)\n",
    "\n",
    "    series_train_relevante2 = pd.Series(palavras_relevantes2)\n",
    "    series_train_irrelevante2 = pd.Series(palavras_irrelevantes2)\n",
    "\n",
    "    palavras_relevante_relativas2 = series_train_relevante2.value_counts(True)\n",
    "    palavras_irrelevante_relativas2 = series_train_irrelevante2.value_counts(True)\n",
    "\n",
    "    palavras_relevante_absolutas2 = series_train_relevante2.value_counts()\n",
    "    palavras_irrelevante_absolutas2 = series_train_irrelevante2.value_counts()\n",
    "\n",
    "    def funcao_classificadora2(test):\n",
    "\n",
    "        lista_resultados = []\n",
    "\n",
    "        test['Classificação_NB'] = 'NaN'\n",
    "\n",
    "        for tweet in list(test.iloc[:,0]):\n",
    "\n",
    "            tweet_limpo = RemoveStopWords(cleanup(tweet.lower()))\n",
    "            lista_de_probabilidades1 = []\n",
    "            lista_de_probabilidades2 = []\n",
    "\n",
    "            for palavra in tweet_limpo:\n",
    "\n",
    "                if (palavra in palavras_relevante_absolutas2) & (palavra not in palavras_irrelevante_absolutas2):\n",
    "                    Laplace = Suavizacao_Laplace(palavras_relevante_absolutas2[palavra],palavras_relevante_absolutas2.sum(),palavras_total_absolutas)\n",
    "                    lista_de_probabilidades1.append(Laplace)\n",
    "                    Laplace = Suavizacao_Laplace(0,palavras_irrelevante_absolutas2.sum(),palavras_total_absolutas)\n",
    "                    lista_de_probabilidades2.append(Laplace)\n",
    "\n",
    "                elif (palavra not in palavras_relevante_absolutas2) & (palavra in palavras_irrelevante_absolutas2):\n",
    "                    Laplace = Suavizacao_Laplace(palavras_irrelevante_absolutas2[palavra],palavras_irrelevante_absolutas2.sum(),palavras_total_absolutas)\n",
    "                    lista_de_probabilidades2.append(Laplace)\n",
    "                    Laplace = Suavizacao_Laplace(0,palavras_relevante_absolutas2.sum(),palavras_total_absolutas)\n",
    "                    lista_de_probabilidades1.append(Laplace)\n",
    "\n",
    "                elif (palavra in palavras_relevante_absolutas2) & (palavra in palavras_irrelevante_absolutas2):\n",
    "                    Laplace = Suavizacao_Laplace(palavras_relevante_absolutas2[palavra],palavras_relevante_absolutas2.sum(),palavras_total_absolutas)\n",
    "                    lista_de_probabilidades1.append(Laplace)\n",
    "                    Laplace = Suavizacao_Laplace(palavras_irrelevante_absolutas2[palavra],palavras_irrelevante_absolutas2.sum(),palavras_total_absolutas)\n",
    "                    lista_de_probabilidades2.append(Laplace)\n",
    "\n",
    "                elif palavra == 'xiaomi':\n",
    "                    continue\n",
    "\n",
    "                else:\n",
    "                    Laplace = Suavizacao_Laplace(0,palavras_relevante_absolutas2.sum(),palavras_total_absolutas)\n",
    "                    lista_de_probabilidades1.append(Laplace)\n",
    "                    Laplace = Suavizacao_Laplace(0,palavras_irrelevante_absolutas2.sum(),palavras_total_absolutas)\n",
    "                    lista_de_probabilidades2.append(Laplace)\n",
    "\n",
    "                P_C_dado_R = MultiplyList(lista_de_probabilidades1)\n",
    "                P_C_dado_Rc = MultiplyList(lista_de_probabilidades2)\n",
    "\n",
    "            P_R = (palavras_relevante_absolutas2.sum())/(palavras_total_absolutas.sum())\n",
    "\n",
    "            P_Rc = 1 - P_R\n",
    "\n",
    "            P_R_dado_C = P_R * P_C_dado_R\n",
    "\n",
    "            P_Rc_dado_C = P_Rc * P_C_dado_Rc            \n",
    "\n",
    "            if P_R_dado_C > P_Rc_dado_C:\n",
    "                resultado = 1\n",
    "            else:\n",
    "                resultado = 0\n",
    "\n",
    "            lista_resultados.append(resultado)\n",
    "\n",
    "        test['Classificação_NB'] = lista_resultados\n",
    "\n",
    "        return test\n",
    "\n",
    "    resultado2 = funcao_classificadora2(test2)\n",
    "\n",
    "    tabela2 = pd.crosstab(resultado2.Classificação_NB, test2.CLASSIFICAÇÃO, normalize = True).round(4)\n",
    "\n",
    "    verdadeiros_positivos2 = tabela2.iloc[1,1]*100\n",
    "    verdadeiros_negativos2 = tabela2.iloc[0,0]*100\n",
    "\n",
    "    eficacia2 = (verdadeiros_positivos2) +  (verdadeiros_negativos2)\n",
    "\n",
    "    lista_eficacia.append(eficacia2.round(2))\n"
   ]
  },
  {
   "cell_type": "markdown",
   "metadata": {},
   "source": [
    "### Medidas da eficácia:"
   ]
  },
  {
   "cell_type": "code",
   "execution_count": 616,
   "metadata": {},
   "outputs": [
    {
     "name": "stdout",
     "output_type": "stream",
     "text": [
      "O mínimo da eficácia foi de 67.57 %\n",
      "O máximo da eficácia foi de 81.85 %\n",
      "A média da eficácia foi de 74.50 %\n"
     ]
    }
   ],
   "source": [
    "lista_eficacia = pd.Series(lista_eficacia)\n",
    "print(f'O mínimo da eficácia foi de {lista_eficacia.min():.2f} %')\n",
    "print(f'O máximo da eficácia foi de {lista_eficacia.max():.2f} %')\n",
    "print(f'A média da eficácia foi de {lista_eficacia.mean():.2f} %')\n"
   ]
  },
  {
   "cell_type": "markdown",
   "metadata": {},
   "source": [
    "___\n",
    "### Histograma da eficácia:"
   ]
  },
  {
   "cell_type": "code",
   "execution_count": 617,
   "metadata": {},
   "outputs": [
    {
     "data": {
      "image/png": "[encoded data removed]",
      "text/plain": [
       "<Figure size 432x288 with 1 Axes>"
      ]
     },
     "metadata": {
      "needs_background": "light"
     },
     "output_type": "display_data"
    }
   ],
   "source": [
    "# faixas de AMPLITUDES IGUAIS\n",
    "faixa1 = np.arange(65,85,1)\n",
    "faixa1\n",
    "\n",
    "# Histograma \n",
    "plt.hist(lista_eficacia, bins=faixa1, edgecolor='black', color = 'red', density = True)\n",
    "plt.title('Eficácia do modelo')\n",
    "plt.ylabel('Faixa')\n",
    "plt.xlabel('Porcentagem de acerto(%)')\n",
    "plt.show()"
   ]
  },
  {
   "cell_type": "markdown",
   "metadata": {},
   "source": [
    "\n",
    "- ## Conclusões sobre o gráfico:\n",
    " \n",
    "   Observando o histograma, é possível perceber uma certa variância nos valores de eficácia produzidos pelo classificador. Dessa forma, ocorre uma variância em torno de 10% do valor mínimo para o valor máximo. Uma vantagem que pode ser observada é que só tem um certo potencial de erro se for feito somente uma vez essa mudança na base de treinamento. Mudando sempre o dataframe de treinamento poderia gerar uma propagação de erros de uma separação para outro, o que pode ser observado visualmente no gráfico na diferença de densidade de uma faixa para outro. Além disso, tendo somente uma base fixa de treinamento faz com que as probabilidades de teste sejam calculadas por um mesmo padrão sempre, não ocorrendo tanta propagação de erro."
   ]
  },
  {
   "cell_type": "markdown",
   "metadata": {},
   "source": [
    "___\n",
    "## Aperfeiçoamento:\n",
    "\n",
    "Os trabalhos vão evoluir em conceito dependendo da quantidade de itens avançados:\n",
    "\n",
    "* Limpar: \\n, :, \", ', (, ), etc SEM remover emojis\n",
    "* Corrigir separação de espaços entre palavras e emojis ou entre emojis e emojis\n",
    "* Propor outras limpezas e transformações que não afetem a qualidade da informação ou classificação\n",
    "* Criar categorias intermediárias de relevância baseadas na probabilidade: ex.: muito relevante, relevante, neutro, irrelevante, muito irrelevante (3 categorias: C, mais categorias conta para B)\n",
    "* Explicar por que não posso usar o próprio classificador para gerar mais amostras de treinamento\n",
    "* Propor diferentes cenários para Naïve Bayes fora do contexto do projeto\n",
    "* Sugerir e explicar melhorias reais com indicações concretas de como implementar (indicar como fazer e indicar material de pesquisa)\n"
   ]
  },
  {
   "cell_type": "markdown",
   "metadata": {},
   "source": [
    "___\n",
    "## Referências"
   ]
  },
  {
   "cell_type": "markdown",
   "metadata": {},
   "source": [
    "[Naive Bayes and Text Classification](https://arxiv.org/pdf/1410.5329.pdf)  **Mais completo**\n",
    "\n",
    "[A practical explanation of a Naive Bayes Classifier](https://monkeylearn.com/blog/practical-explanation-naive-bayes-classifier/) **Mais simples**\n",
    "\n",
    "https://pt.wikipedia.org/wiki/Xiaomi\n",
    "\n",
    "https://www.datageeks.com.br/naive-bayes/\n",
    "\n",
    "https://www.cos.ufrj.br/~ines/enia07_html/pdf/28095.pdf\n",
    "\n",
    "https://bitlybr.com/87Uwox\n",
    "\n",
    "https://scikit-learn.org/stable/modules/generated/sklearn.model_selection.train_test_split.html\n",
    "\n",
    "https://stackoverflow.com/questions/20625582/how-to-deal-with-settingwithcopywarning-in-pandas\n",
    "\n",
    "https://pandas.pydata.org/pandas-docs/stable/user_guide/indexing.html#returning-a-view-versus-a-copy\n"
   ]
  }
 ],
 "metadata": {
  "kernelspec": {
   "display_name": "Python 3",
   "language": "python",
   "name": "python3"
  },
  "language_info": {
   "codemirror_mode": {
    "name": "ipython",
    "version": 3
   },
   "file_extension": ".py",
   "mimetype": "text/x-python",
   "name": "python",
   "nbconvert_exporter": "python",
   "pygments_lexer": "ipython3",
   "version": "3.8.5"
  }
 },
 "nbformat": 4,
 "nbformat_minor": 4
}
